{
 "cells": [
  {
   "cell_type": "markdown",
   "metadata": {},
   "source": [
    "Sentence-Transformer have the same architecture based on Transformer architecture(BERT) -> Purposes using capture semantic meaning in the external knowledge  \n"
   ]
  },
  {
   "cell_type": "code",
   "execution_count": 1,
   "metadata": {},
   "outputs": [
    {
     "name": "stderr",
     "output_type": "stream",
     "text": [
      "/media/tairo/Storages/AIProject/env/.venv/lib/python3.11/site-packages/tqdm/auto.py:21: TqdmWarning: IProgress not found. Please update jupyter and ipywidgets. See https://ipywidgets.readthedocs.io/en/stable/user_install.html\n",
      "  from .autonotebook import tqdm as notebook_tqdm\n",
      "2025-04-11 11:43:36.090755: I tensorflow/core/util/port.cc:153] oneDNN custom operations are on. You may see slightly different numerical results due to floating-point round-off errors from different computation orders. To turn them off, set the environment variable `TF_ENABLE_ONEDNN_OPTS=0`.\n",
      "2025-04-11 11:43:36.247106: E external/local_xla/xla/stream_executor/cuda/cuda_fft.cc:467] Unable to register cuFFT factory: Attempting to register factory for plugin cuFFT when one has already been registered\n",
      "WARNING: All log messages before absl::InitializeLog() is called are written to STDERR\n",
      "E0000 00:00:1744346616.329922   87554 cuda_dnn.cc:8579] Unable to register cuDNN factory: Attempting to register factory for plugin cuDNN when one has already been registered\n",
      "E0000 00:00:1744346616.354334   87554 cuda_blas.cc:1407] Unable to register cuBLAS factory: Attempting to register factory for plugin cuBLAS when one has already been registered\n",
      "W0000 00:00:1744346616.481677   87554 computation_placer.cc:177] computation placer already registered. Please check linkage and avoid linking the same target more than once.\n",
      "W0000 00:00:1744346616.481716   87554 computation_placer.cc:177] computation placer already registered. Please check linkage and avoid linking the same target more than once.\n",
      "W0000 00:00:1744346616.481720   87554 computation_placer.cc:177] computation placer already registered. Please check linkage and avoid linking the same target more than once.\n",
      "W0000 00:00:1744346616.481723   87554 computation_placer.cc:177] computation placer already registered. Please check linkage and avoid linking the same target more than once.\n",
      "2025-04-11 11:43:36.499728: I tensorflow/core/platform/cpu_feature_guard.cc:210] This TensorFlow binary is optimized to use available CPU instructions in performance-critical operations.\n",
      "To enable the following instructions: AVX2 AVX512F AVX512_VNNI FMA, in other operations, rebuild TensorFlow with the appropriate compiler flags.\n"
     ]
    }
   ],
   "source": [
    "import pandas as pd\n",
    "from sentence_transformers import SentenceTransformer\n",
    "import chromadb\n",
    "import os\n",
    "import uuid # For generating unique IDs"
   ]
  },
  {
   "cell_type": "code",
   "execution_count": 2,
   "metadata": {},
   "outputs": [],
   "source": [
    "#File Path for datasset using for RAG\n",
    "csv_files = [\n",
    "    '/media/tairo/Storages/AIProject/DataSet/Chatbot/dataset - Coms.csv',\n",
    "    '/media/tairo/Storages/AIProject/DataSet/Chatbot/dataset - Tomato Bacterial Spot.csv',\n",
    "    '/media/tairo/Storages/AIProject/DataSet/Chatbot/dataset - Tomato Early Blight.csv',\n",
    "    '/media/tairo/Storages/AIProject/DataSet/Chatbot/dataset - Tomato Yello Leaf Curl.csv'\n",
    "]"
   ]
  },
  {
   "cell_type": "code",
   "execution_count": 3,
   "metadata": {},
   "outputs": [],
   "source": [
    "#ChromaDB Setup \n",
    "CHROMA_DATA_PATH = \"chroma_db_store\" # Directory to store ChromaDB data\n",
    "COLLECTION_NAME = \"tomato_chatbot_knowledge\" # Name for the collection"
   ]
  },
  {
   "cell_type": "code",
   "execution_count": 4,
   "metadata": {},
   "outputs": [],
   "source": [
    "#Using embedding model For RAG\n",
    "embedding_model_name = 'all-MiniLM-L6-v2' "
   ]
  },
  {
   "cell_type": "code",
   "execution_count": 5,
   "metadata": {},
   "outputs": [
    {
     "name": "stdout",
     "output_type": "stream",
     "text": [
      "Using embedding model: all-MiniLM-L6-v2\n",
      "Embedding model loaded.\n"
     ]
    }
   ],
   "source": [
    "print(f\"Using embedding model: {embedding_model_name}\")\n",
    "#Initialize the model download embedding model all miniLM L6 v2\n",
    "model = SentenceTransformer(embedding_model_name)\n",
    "print(\"Embedding model loaded.\")"
   ]
  },
  {
   "cell_type": "code",
   "execution_count": 6,
   "metadata": {},
   "outputs": [
    {
     "name": "stdout",
     "output_type": "stream",
     "text": [
      "Loading CSV: dataset - Coms.csv...\n",
      "Loading CSV: dataset - Tomato Bacterial Spot.csv...\n",
      "Loading CSV: dataset - Tomato Early Blight.csv...\n",
      "Loading CSV: dataset - Tomato Yello Leaf Curl.csv...\n",
      "\n",
      "Combined DataFrame created with 220 rows.\n",
      "DataFrame size after removing empty responses: 220 rows.\n"
     ]
    }
   ],
   "source": [
    "all_dfs = [] #Create empty list to store dataframes for each individual loaded CSV file, before combined together\n",
    "for file_path in csv_files: #Loop through 4 files\n",
    "    if os.path.exists(file_path):\n",
    "        try:\n",
    "            print(f\"Loading CSV: {os.path.basename(file_path)}...\") #os.path.basename(file_path) to get the file name\n",
    "            #Load the CSV file to the DataFrame\n",
    "            df = pd.read_csv(file_path) #The DataFrame related to pandas(mostly use for reading CSV files) -> Core loading step in using  pd.read_csv(F)\n",
    "            # Add a source column to know where the data came from\n",
    "            df['source'] = os.path.basename(file_path)\n",
    "            # Handle potential empty strings or NaN values in critical columns, will check for inside of its if empty will ''. The .astype(str) is use to ensure all text is treat as string\n",
    "            df['Response'] = df['Response'].fillna('').astype(str)\n",
    "            df['Intent'] = df['Intent'].fillna('Unknown').astype(str)\n",
    "            df['User_Input'] = df['User_Input'].fillna('').astype(str)\n",
    "            all_dfs.append(df)\n",
    "        except Exception as e:\n",
    "            print(f\"Error loading {file_path}: {e}\")\n",
    "    else:\n",
    "        print(f\"File not found - {file_path}\")\n",
    "\n",
    "if not all_dfs:\n",
    "    print(\"No data loaded. Exiting.\")\n",
    "    exit()\n",
    "    \n",
    "# Combine all dataframes into one vertical stack Dataframe \n",
    "\n",
    "combined_df = pd.concat(all_dfs, ignore_index=True) \n",
    "print(f\"\\nCombined DataFrame created with {len(combined_df)} rows.\")\n",
    "\n",
    "# Clean up data - remove rows where the response (our document content) is empty\n",
    "combined_df = combined_df[combined_df['Response'].str.strip() != '']\n",
    "print(f\"DataFrame size after removing empty responses: {len(combined_df)} rows.\")"
   ]
  },
  {
   "attachments": {
    "image.png": {
     "image/png": "[encoded data removed]"
    }
   },
   "cell_type": "markdown",
   "metadata": {},
   "source": [
    "![image.png](attachment:image.png)  \n",
    "Here is the example results of vertical stack dataframe after combine them all\n"
   ]
  },
  {
   "cell_type": "code",
   "execution_count": 7,
   "metadata": {},
   "outputs": [
    {
     "name": "stdout",
     "output_type": "stream",
     "text": [
      "Prepared 220 documents, 220 metadata entries, and 220 IDs.\n"
     ]
    }
   ],
   "source": [
    "# Prepare Data for ChromaDB\n",
    "# Extract the text content (documents)\n",
    "# Ensure documents are strings and handle potential None values again just in case\n",
    "documents = combined_df['Response'].fillna('').astype(str).tolist()\n",
    "\n",
    "# Extract metadata (as a list of dictionaries)\n",
    "metadatas = combined_df[['source', 'Intent', 'User_Input']].to_dict(orient='records')\n",
    "\n",
    "# Generate unique IDs for each document\n",
    "# Using UUIDs is robust, but simple incremental IDs can also work if uniqueness is guaranteed\n",
    "ids = [str(uuid.uuid4()) for _ in range(len(documents))]\n",
    "# Alternative: ids = [f\"doc_{i}\" for i in range(len(documents))]\n",
    "\n",
    "print(f\"Prepared {len(documents)} documents, {len(metadatas)} metadata entries, and {len(ids)} IDs.\")"
   ]
  },
  {
   "cell_type": "code",
   "execution_count": 8,
   "metadata": {},
   "outputs": [
    {
     "name": "stdout",
     "output_type": "stream",
     "text": [
      "\n",
      "Generating embeddings for documents...\n"
     ]
    },
    {
     "name": "stderr",
     "output_type": "stream",
     "text": [
      "Batches:   0%|          | 0/7 [00:00<?, ?it/s]"
     ]
    },
    {
     "name": "stderr",
     "output_type": "stream",
     "text": [
      "Batches: 100%|██████████| 7/7 [00:02<00:00,  3.22it/s]"
     ]
    },
    {
     "name": "stdout",
     "output_type": "stream",
     "text": [
      "Generated 220 embeddings.\n"
     ]
    },
    {
     "name": "stderr",
     "output_type": "stream",
     "text": [
      "\n"
     ]
    }
   ],
   "source": [
    "# --- 4. Generate Embeddings ---\n",
    "if documents:\n",
    "    print(\"\\nGenerating embeddings for documents...\")\n",
    "    # This is the most time-consuming step, especially on CPU\n",
    "    embeddings = model.encode(documents, show_progress_bar=True).tolist()\n",
    "    print(f\"Generated {len(embeddings)} embeddings.\")\n",
    "else:\n",
    "    print(\"No documents found to generate embeddings. Exiting.\")\n",
    "    exit()"
   ]
  },
  {
   "cell_type": "code",
   "execution_count": 9,
   "metadata": {},
   "outputs": [
    {
     "name": "stdout",
     "output_type": "stream",
     "text": [
      "\n",
      "Initializing ChromaDB client (Persistent at: chroma_db_store)...\n",
      "Getting or creating collection: tomato_chatbot_knowledge...\n",
      "Adding 220 documents to the collection...\n",
      "Data successfully added to ChromaDB collection.\n"
     ]
    }
   ],
   "source": [
    "# --- 5. Initialize ChromaDB and Add Data ---\n",
    "print(f\"\\nInitializing ChromaDB client (Persistent at: {CHROMA_DATA_PATH})...\")\n",
    "# Create a persistent client - data will be saved to the specified path\n",
    "client = chromadb.PersistentClient(path=CHROMA_DATA_PATH)\n",
    "\n",
    "print(f\"Getting or creating collection: {COLLECTION_NAME}...\")\n",
    "# Get or create the collection.\n",
    "# If the collection already exists with the same name, it will be loaded.\n",
    "# If you rerun this script, you might want to delete the old collection first\n",
    "# or handle potential duplicate IDs if using incremental IDs. UUIDs avoid this.\n",
    "# Note: We are providing embeddings directly, so we don't strictly need to set\n",
    "# the embedding_function here, but it can be good practice if you might add\n",
    "# documents later without pre-calculating embeddings.\n",
    "# For adding with pre-calculated embeddings, often you don't set it or use a default.\n",
    "# Let's omit it for now as we provide embeddings directly. If Chroma complains,\n",
    "# you might need `embedding_function=chromadb.utils.embedding_functions.SentenceTransformerEmbeddingFunction(model_name=embedding_model_name)`\n",
    "collection = client.get_or_create_collection(name=COLLECTION_NAME)\n",
    "\n",
    "# Add the data to the collection\n",
    "# This might take a moment depending on the amount of data\n",
    "print(f\"Adding {len(documents)} documents to the collection...\")\n",
    "try:\n",
    "    collection.add(\n",
    "        embeddings=embeddings,\n",
    "        documents=documents,\n",
    "        metadatas=metadatas,\n",
    "        ids=ids\n",
    "    )\n",
    "    print(\"Data successfully added to ChromaDB collection.\")\n",
    "except Exception as e:\n",
    "    print(f\"Error adding data to ChromaDB: {e}\")\n",
    "    # Consider potential issues like data type mismatches or connection problems"
   ]
  },
  {
   "cell_type": "code",
   "execution_count": 10,
   "metadata": {},
   "outputs": [
    {
     "name": "stdout",
     "output_type": "stream",
     "text": [
      "\n",
      "--- Verification Query ---\n",
      "Querying collection with: 'What causes bacterial spot on tomato?'\n",
      "\n",
      "Query Results:\n",
      "  Result 1:\n",
      "    ID: d0325a64-f0ed-4385-a7ff-46bddb8e3462\n",
      "    Distance: 0.3224\n",
      "    Metadata: {'Intent': 'Bacterial Spot', 'User_Input': 'What is the scientific name for the bacteria causing spot on my tomatoes?', 'source': 'dataset - Tomato Bacterial Spot.csv'}\n",
      "    Document: Bacterial spot of tomato is caused by several species of the Xanthomonas bacteria, including:\n",
      "- Xanthomonas vesicatoria\n",
      "- Xanthomonas euvesicatoria\n",
      "- Xanthomonas gardneri\n",
      "- Xanthomonas perforans\n",
      "These bacteria are often spread through contaminated se...\n",
      "--------------------\n",
      "  Result 2:\n",
      "    ID: e39bd8d2-26ce-4f8b-81e8-fee57b324aa3\n",
      "    Distance: 0.3224\n",
      "    Metadata: {'Intent': 'Bacterial Spot', 'User_Input': 'What is the scientific name for the bacteria causing spot on my tomatoes?', 'source': 'dataset - Tomato Bacterial Spot.csv'}\n",
      "    Document: Bacterial spot of tomato is caused by several species of the Xanthomonas bacteria, including:\n",
      "- Xanthomonas vesicatoria\n",
      "- Xanthomonas euvesicatoria\n",
      "- Xanthomonas gardneri\n",
      "- Xanthomonas perforans\n",
      "These bacteria are often spread through contaminated se...\n",
      "--------------------\n",
      "\n",
      "--- Preprocessing and Loading Complete ---\n",
      "ChromaDB data stored in: /media/tairo/Storages/AIProject/AboutModel/AboutData/chroma_db_store\n",
      "Collection name: tomato_chatbot_knowledge\n",
      "Total documents in collection: 440\n"
     ]
    }
   ],
   "source": [
    "# --- 6. Verification (Optional Query Example) ---\n",
    "print(\"\\n--- Verification Query ---\")\n",
    "if collection.count() > 0:\n",
    "    try:\n",
    "        query_text = \"What causes bacterial spot on tomato?\"\n",
    "        print(f\"Querying collection with: '{query_text}'\")\n",
    "\n",
    "        # Generate embedding for the query text\n",
    "        query_embedding = model.encode([query_text]).tolist()\n",
    "\n",
    "        results = collection.query(\n",
    "            query_embeddings=query_embedding,\n",
    "            n_results=2 # Get the top 2 most similar results\n",
    "        )\n",
    "\n",
    "        print(\"\\nQuery Results:\")\n",
    "        if results and results.get('ids') and results['ids'][0]:\n",
    "            for i in range(len(results['ids'][0])):\n",
    "                print(f\"  Result {i+1}:\")\n",
    "                print(f\"    ID: {results['ids'][0][i]}\")\n",
    "                print(f\"    Distance: {results['distances'][0][i]:.4f}\") # Lower distance = more similar\n",
    "                print(f\"    Metadata: {results['metadatas'][0][i]}\")\n",
    "                # Truncate document for display\n",
    "                doc_text = results['documents'][0][i]\n",
    "                print(f\"    Document: {doc_text[:250]}...\") # Print first 250 chars\n",
    "                print(\"-\" * 20)\n",
    "        else:\n",
    "            print(\"No results found or results format unexpected.\")\n",
    "\n",
    "    except Exception as e:\n",
    "        print(f\"Error during verification query: {e}\")\n",
    "else:\n",
    "    print(\"Collection is empty, skipping verification query.\")\n",
    "\n",
    "print(\"\\n--- Preprocessing and Loading Complete ---\")\n",
    "print(f\"ChromaDB data stored in: {os.path.abspath(CHROMA_DATA_PATH)}\")\n",
    "print(f\"Collection name: {COLLECTION_NAME}\")\n",
    "print(f\"Total documents in collection: {collection.count()}\")"
   ]
  },
  {
   "cell_type": "code",
   "execution_count": 11,
   "metadata": {},
   "outputs": [
    {
     "name": "stdout",
     "output_type": "stream",
     "text": [
      "{'ids': [['d0325a64-f0ed-4385-a7ff-46bddb8e3462', 'e39bd8d2-26ce-4f8b-81e8-fee57b324aa3']], 'embeddings': None, 'documents': [['Bacterial spot of tomato is caused by several species of the Xanthomonas bacteria, including:\\n- Xanthomonas vesicatoria\\n- Xanthomonas euvesicatoria\\n- Xanthomonas gardneri\\n- Xanthomonas perforans\\nThese bacteria are often spread through contaminated seeds or rain splash, and can lead to dark, water-soaked lesions on the leaves and fruit. Do you want to know any tips  or way to prevent', 'Bacterial spot of tomato is caused by several species of the Xanthomonas bacteria, including:\\n- Xanthomonas vesicatoria\\n- Xanthomonas euvesicatoria\\n- Xanthomonas gardneri\\n- Xanthomonas perforans\\nThese bacteria are often spread through contaminated seeds or rain splash, and can lead to dark, water-soaked lesions on the leaves and fruit. Do you want to know any tips  or way to prevent']], 'uris': None, 'data': None, 'metadatas': [[{'Intent': 'Bacterial Spot', 'User_Input': 'What is the scientific name for the bacteria causing spot on my tomatoes?', 'source': 'dataset - Tomato Bacterial Spot.csv'}, {'Intent': 'Bacterial Spot', 'User_Input': 'What is the scientific name for the bacteria causing spot on my tomatoes?', 'source': 'dataset - Tomato Bacterial Spot.csv'}]], 'distances': [[0.32236742973327637, 0.32236742973327637]], 'included': [<IncludeEnum.distances: 'distances'>, <IncludeEnum.documents: 'documents'>, <IncludeEnum.metadatas: 'metadatas'>]}\n"
     ]
    }
   ],
   "source": [
    "results = collection.query(\n",
    "    query_embeddings=query_embedding,\n",
    "    n_results=2\n",
    ")\n",
    "print(results)"
   ]
  }
 ],
 "metadata": {
  "kernelspec": {
   "display_name": ".venv",
   "language": "python",
   "name": "python3"
  },
  "language_info": {
   "codemirror_mode": {
    "name": "ipython",
    "version": 3
   },
   "file_extension": ".py",
   "mimetype": "text/x-python",
   "name": "python",
   "nbconvert_exporter": "python",
   "pygments_lexer": "ipython3",
   "version": "3.11.10"
  }
 },
 "nbformat": 4,
 "nbformat_minor": 2
}
