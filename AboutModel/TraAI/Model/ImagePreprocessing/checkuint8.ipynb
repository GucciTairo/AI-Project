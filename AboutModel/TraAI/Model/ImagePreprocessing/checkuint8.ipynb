{
 "cells": [
  {
   "cell_type": "code",
   "execution_count": 1,
   "metadata": {},
   "outputs": [],
   "source": [
    "import os\n",
    "from PIL import Image, UnidentifiedImageError\n",
    "import numpy as np"
   ]
  },
  {
   "cell_type": "code",
   "execution_count": 2,
   "metadata": {},
   "outputs": [],
   "source": [
    "\n",
    "ROOT_DATA_DIR = \"/media/tairo/Storages/AIProject/AboutModel/TraAI/Data\"\n",
    "IMAGE_EXTENSIONS = ('.png', '.jpg', '.jpeg', '.gif', '.bmp', '.tiff')\n",
    "ACCEPTABLE_DTYPES = [np.dtype('uint8')] # We are now specifically checking for uint8\n"
   ]
  },
  {
   "cell_type": "code",
   "execution_count": 3,
   "metadata": {},
   "outputs": [
    {
     "name": "stdout",
     "output_type": "stream",
     "text": [
      "Starting image NumPy dtype scan in: /media/tairo/Storages/AIProject/AboutModel/TraAI/Data\n",
      "Acceptable NumPy dtypes: ['uint8']\n",
      "------------------------------------------------------------\n",
      "\n",
      "------------------------------------------------------------\n",
      "Image NumPy dtype scan complete.\n",
      "Total images scanned: 9193\n",
      "All scanned images, when converted to NumPy arrays, appear to have acceptable dtypes (e.g., uint8).\n",
      "------------------------------------------------------------\n"
     ]
    }
   ],
   "source": [
    "def check_all_image_dtypes(start_directory):\n",
    "    \"\"\"\n",
    "    Recursively scans all images under start_directory,\n",
    "    converts them to NumPy arrays, and checks their dtype.\n",
    "    Prints warnings for images not resulting in an acceptable dtype (e.g., uint8).\n",
    "    \"\"\"\n",
    "    print(f\"Starting image NumPy dtype scan in: {start_directory}\")\n",
    "    print(f\"Acceptable NumPy dtypes: {[str(dt) for dt in ACCEPTABLE_DTYPES]}\") # Show as strings for readability\n",
    "    print(\"-\" * 60)\n",
    "\n",
    "    images_scanned_count = 0\n",
    "    problematic_images_count = 0\n",
    "\n",
    "    for dirpath, _, filenames in os.walk(start_directory):\n",
    "        for filename in filenames:\n",
    "            if filename.lower().endswith(IMAGE_EXTENSIONS):\n",
    "                image_path = os.path.join(dirpath, filename)\n",
    "                images_scanned_count += 1\n",
    "                try:\n",
    "                    with Image.open(image_path) as img:\n",
    "                        # For 'P' mode images with transparency, converting to 'RGBA' first is often safer\n",
    "                        # before converting to a NumPy array to ensure consistency.\n",
    "                        # Otherwise, transparency might be handled in ways that change the effective dtype\n",
    "                        # or shape unexpectedly for some downstream processes if not explicitly converted.\n",
    "                        # However, for a simple dtype check, this might not always be necessary if you\n",
    "                        # just want to see the raw loaded dtype from Pillow.\n",
    "                        # Let's check the mode and convert 'P' to 'RGB' or 'RGBA' as common libraries do.\n",
    "                        final_img_for_array = img\n",
    "                        if img.mode == 'P':\n",
    "                            # print(f\"  INFO: Image '{image_path}' (Mode: P) converting to RGBA for NumPy array check.\")\n",
    "                            final_img_for_array = img.convert('RGBA') # Convert palette to RGBA\n",
    "                        elif img.mode == 'LA':\n",
    "                            # print(f\"  INFO: Image '{image_path}' (Mode: LA) converting to RGBA for NumPy array check.\")\n",
    "                            final_img_for_array = img.convert('RGBA')\n",
    "                        elif img.mode not in ['RGB', 'RGBA', 'L', '1']: # '1' (binary) loads as bool, converts to uint8 by np.array\n",
    "                            # Other modes might need specific conversion\n",
    "                            # print(f\"  INFO: Image '{image_path}' (Mode: {img.mode}) attempting generic convert to RGB for NumPy array check.\")\n",
    "                            try:\n",
    "                                final_img_for_array = img.convert('RGB')\n",
    "                            except Exception: # If conversion fails, use original for dtype check\n",
    "                                final_img_for_array = img\n",
    "\n",
    "\n",
    "                        # Convert the PIL Image to a NumPy array\n",
    "                        img_array = np.array(final_img_for_array)\n",
    "                        dtype = img_array.dtype\n",
    "\n",
    "                        if dtype not in ACCEPTABLE_DTYPES:\n",
    "                            # If mode '1', np.array(img) might give bool. TensorFlow usually handles this fine as uint8.\n",
    "                            # So let's add a specific check for bool originating from mode '1'\n",
    "                            if img.mode == '1' and dtype == np.dtype('bool'):\n",
    "                                # print(f\"  OK (Interpreted): Image '{image_path}' (Mode: 1) -> NumPy dtype: {dtype} (Interprets as uint8 effectively)\")\n",
    "                                pass\n",
    "                            else:\n",
    "                                print(f\"  WARNING: Image '{image_path}' (Mode: {img.mode}) -> NumPy dtype: {dtype}.\")\n",
    "                                problematic_images_count += 1\n",
    "                        # else:\n",
    "                            # print(f\"  OK: Image '{image_path}' (Mode: {img.mode}) -> NumPy dtype: {dtype}\")\n",
    "\n",
    "                except UnidentifiedImageError:\n",
    "                    print(f\"  ERROR: Cannot identify image (corrupted or unsupported): {image_path}\")\n",
    "                    problematic_images_count += 1\n",
    "                except Exception as e:\n",
    "                    print(f\"  ERROR: Could not process {image_path}: {e}\")\n",
    "                    problematic_images_count += 1\n",
    "\n",
    "    print(\"\\n\" + \"-\" * 60)\n",
    "    print(\"Image NumPy dtype scan complete.\")\n",
    "    print(f\"Total images scanned: {images_scanned_count}\")\n",
    "    if problematic_images_count > 0:\n",
    "        print(f\"Number of images with non-acceptable NumPy dtypes or errors: {problematic_images_count}\")\n",
    "        print(\"Please review the WARNING/ERROR messages above.\")\n",
    "    else:\n",
    "        print(\"All scanned images, when converted to NumPy arrays, appear to have acceptable dtypes (e.g., uint8).\")\n",
    "    print(\"-\" * 60)\n",
    "\n",
    "if __name__ == \"__main__\":\n",
    "    check_all_image_dtypes(ROOT_DATA_DIR)"
   ]
  }
 ],
 "metadata": {
  "kernelspec": {
   "display_name": ".venv",
   "language": "python",
   "name": "python3"
  },
  "language_info": {
   "codemirror_mode": {
    "name": "ipython",
    "version": 3
   },
   "file_extension": ".py",
   "mimetype": "text/x-python",
   "name": "python",
   "nbconvert_exporter": "python",
   "pygments_lexer": "ipython3",
   "version": "3.11.10"
  }
 },
 "nbformat": 4,
 "nbformat_minor": 2
}
